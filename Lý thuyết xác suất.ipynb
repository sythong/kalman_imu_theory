{
 "cells": [
  {
   "cell_type": "markdown",
   "metadata": {},
   "source": [
    "# 1. Kỳ vọng (Expectation):\n",
    "## Định nghĩa:\n",
    "Giả sử $x$ là một đại lượng ngẫu nhiên rời rạc có thể nhận được các giá trị $x_1, x_2, ...,x_n$ với các xác suất tương ứng $P_1, P_2,..., P_n$.\n",
    "\n",
    "Khi đó kỳ vọng của $X$, ký hiệu là $E(X)$ hay $\\mu$ được xác định bởi công thức:\n",
    "$$ E(X) = \\sum_{i=1}^n x_iP_i  $$\n",
    "Nếu $X$ là đại lượng ngẫu nhiên liên tục có hàm mật độ xác suất là $f(x)$ thì kì vọng của $X$ là:\n",
    "$$ E(X) = \\int_{-\\infty}^{+\\infty} xf(x)dx $$\n",
    "## Tính chất\n",
    "        1) E(C) = C\n",
    "        2) E(C.X)  = C.E(X), C là hằng số\n",
    "        3) E(X + Y) =  E(x) + E(Y)\n",
    "        4) Nếu X và Y là 2 đại lượng ngẫu nhiên độc lập thì:\n",
    "            E(X.Y) =  E(X).E(Y)\n",
    "\n",
    "## Ý nghĩa kì vọng\n",
    "Kỳ vọng của một đại lượng ngẫu nhiên chính là giá trị trung bình (theo xác suất) của đại lượng ngẫu nhiên đó. Nó là điểm trung tâm của phân phối mà các giá trị cụ thể của X sẽ tập trung xung quanh đó "
   ]
  },
  {
   "cell_type": "markdown",
   "metadata": {},
   "source": [
    "# 2. Phương sai (variance):\n",
    "## Định nghĩa \n",
    "Phương sai ( Trung bình bình phương độ lệch) của đại lượng ngẫu nhiên X, ký hiệu $Var(X)$ hay $V(X)$ được xác định bởi công thức:\n",
    "$$ Var(X) = E[(X- \\mu)^2] $$\n",
    "Nếu $X$ là đại lượng ngẫu nhiên rời rạc có thể nhận giá trị $x_1, x_2, ...,x_n$ với xác suất tương ứng $P_1, P_2,...,P_n$ thì :\n",
    "$$ Var(X) = \\sum_{i=1}^n[x_i - \\mu]^2.P_i $$\n",
    "Nếu $X$ là đại lượng ngẫu nhiên liên tục có hàm mật độ xác suất là $f(x)$ thì : \n",
    "$$ Var(X)  = \\int_{-\\infty}^{+\\infty} [x- \\mu]^2f(x)dx  $$\n",
    "Trong thực tế ta thường tính phương sai bằng công thức :\n",
    "$$ Var(X) = E[X^2] - (E[x])^2 $$\n",
    "## Tính chất\n",
    "i. $Var(C) = 0$\n",
    "\n",
    "ii. $Var(CX) = C^2.Var(X)$\n",
    "\n",
    "iii. Nếu $X, Y$ là 2 biến độc lập thì :\n",
    "$$ Var(X + Y) = Var(X-Y) = Var(X) + Var(Y) $$\n",
    "## Ý nghĩa:\n",
    "$X-\\mu$ là độ lệch khỏi giá trị trung bình. Do đó, phương sai $Var(X)$ gọi là trung bình bình phương độ lệch. Nên phương sai phản ánh mức độ phân tán của các giá trị của đại lượng ngẫu nhiên quanh giá trị trung bình hay kỳ vọng. Đại lượng ngẫu nhiên có phương sai càng lớn thì giá trị phân tán càng cao và ngược lại.\n",
    "\n"
   ]
  },
  {
   "cell_type": "markdown",
   "metadata": {},
   "source": [
    "# 3. Độ lệch chuẩn\n",
    "## Định nghĩa\n",
    "Độ lệch chuẩn của đại lượng ngẫu nhiên $X$, ký hiệu là $\\sigma(X)$ được xác định bởi công thức:\n",
    "$$ \\sigma(X) = \\sqrt{Var(X)}$$"
   ]
  },
  {
   "cell_type": "markdown",
   "metadata": {},
   "source": [
    "# 4. Hiệp phương sai (Covariance)\n",
    "## Định nghĩa\n",
    "Cho 2 biến ngẫu nhiên $X, Y$, ta có định nghĩa hiệp phương sai của $X$ và $Y$, ký hiệu $Cov(X,Y)$: \n",
    "$$ Cov(X,Y) =  E[(X-\\mu_x)(Y- \\mu_y)]$$\n",
    "Trong đó $\\mu_x$ và $\\mu_y$ lần lượt là kỳ vọng của $X$ và $Y$.\n",
    "Một công thức tương đương của hiệp phương sai:\n",
    "$$ Cov(X,Y) = E[XY] - \\mu_xE[Y] - \\mu_yE[X] + \\mu_x\\mu_y $$\n",
    "$$ Cov(X,Y) = E[XY] - \\mu_x\\mu_y$$\n",
    "## Ý nghĩa\n",
    "Hiệp phương sai là sự biến thiên cùng nhau của 2 biến ngẫu nhiên. Nếu 2 biến có xu hướng đổi cùng nhau (Nghĩa là, khi một biến có giá trị cao hơn kỳ vọng thì biến kia cũng có xu hướng cao hơn kỳ vọng), thì Hiệp phương sai của 2 biến này có giá trị dương. Nếu một biến nằm trên giá trị kì vọng còn biến kia có xu hướng nằm dưới kỳ vọng, thì HPS có giá trị âm. Nếu 2 biến ngẫu nhiên độc lập thì $Cov(X,Y) = 0$ tuy nhiên điều ngược lại không đúng. Các biến ngẫu nhiên có hiệp phương sai bằng 0 được gọi là không tương quan (uncovariance), chúng có thể độc lập nhau hoặc không.\n",
    "\n",
    "Như vậy, nếu $X, Y$ độc lập ta có $E[XY] = \\mu_x\\mu_y$\n",
    "## Tính chất\n",
    "i. $Cov(X,X) = Var(X)$\n",
    "\n",
    "ii. $Cov(X,Y) = Cov(Y,X)$\n",
    "\n",
    "iii. $Cov(aX, bY) = abCo(X,Y)$\n",
    "\n",
    "iV. $Cov(X1 + X2, Y1 + Y2) = Cov(X1,Y1) + Cov(X1,Y2) + Cov(X2,Y1) + Cov(X2,Y2)$\n",
    "\n",
    "v. $Cov(X+Y) = Var(X) + Var(Y) +  2 Cov(X,Y)$\n"
   ]
  },
  {
   "cell_type": "markdown",
   "metadata": {},
   "source": [
    "# 5. Ma trận hiệp phương sai\n",
    "Hiệp phương sai là đại lương tương quan giữa 2 biến ngẫu nhiên.\n",
    "Vậy giả sử ta có một vector biến ngẫu nhiên gồm có 3 phần tử $X_1, X_2, X_3$. Nếu ta muốn tính toán sự tương quan giữa tất cả các cặp biến ngẫu nhiên thì ta phải tính tất cả 3 hiệp phương sai $Cov(X_1, X2), Cov(X_2, X_3), Cov(X_1, X_3)$. \n",
    "\n",
    "Một cách tổng quát, ma trận hiệp phương sai đã ra đời để cho phép tính tất cả các $Cov$ giữa 2 biến ngẫu nhiên trong một vector ngẫu nhiên. \n",
    "\n",
    "Cho một vector ngẫu nhiên $X$ chứa $n$ biến ngẫu nhiên, ma trận hiệp phương sai cua $X$ , được ký hiệu là $\\sum$, được định nghĩa :\n",
    "$$ \\sum  = \\begin{bmatrix}Cov(X_1,X_1) & Cov(X_1,X_2) & ...& Cov(X_1,X_n) \\\\\n",
    "                          Cov(X_2,X_1) & Cov(X_2,X_2) & ...& Cov(X_2,X_n) \\\\\n",
    "                          . & .&.&.\\\\\n",
    "                          Cov(X_n,X_1) & Cov(X_n,X_2) & ...& Cov(X_n,X_n) \\\\\n",
    "                          \\end{bmatrix} $$\n",
    "                   \n",
    "với $X = \\begin{bmatrix} X1\\\\.\\\\Xn \\end{bmatrix} $      \n",
    "Quan sát trên đường chéo của ma trận hiệp phương sai (i=j) ta thấy tại đó là các phương sai vì $Cov(X_i, X_i) = Var(X_i)$\n"
   ]
  },
  {
   "cell_type": "markdown",
   "metadata": {},
   "source": [
    "# 6. Phân phối chuẩn ( Phân phối Gaussian)\n",
    "Trong thực tế, người ta thường sử dụng phân phối xác suất có tên là phân phối chuẩn (normal distribution) hay phân phối Gaussian.\n",
    "\n",
    "Một biến ngẫu nhiên X được gọi là có phân phối chuẩn khi nó có hàm mật độ là hàm Gaussian, kí hiệu $X = N(\\mu, \\sigma)$ gọi là X có phân phối xác suất với tham số $\\mu, \\sigma$. Khi đó hàm mật độ xác suất là :\n",
    "$$ f(x, \\mu, \\sigma) = \\frac{1}{\\sigma.\\sqrt{2\\pi}}e^{\\frac{-(x-\\mu)^2}{2\\sigma^2}} $$\n",
    "Với phân phối xác suất như trên, người ta tính được $\\mu, \\sigma$  lần lượt là kì vọng và độ lệch chuẩn của $X$.\n",
    "\n",
    "Hình ảnh\n",
    "\n",
    "Quan sát đồ thị ta thấy phân phối chuẩn có dạng hình chuông. Giá trị kì vọng của X là $X = \\mu$ là trục đối xứng. Độ lệch chuẩn $\\sigma$ (hay phương sai $\\sigma^2$) càng lớn thì đồ thị càng bẹt, nghĩa là giá trị càng phân tán ra xa kì vọng. \n",
    "\n",
    "Trong thực tế, các loại nhiễu trong hệ thống đo lường có thể được mô phỏng một cách chính xác bằng nhiễu trắng cộng. Hay nói cách khác, tạp âm trắng Gaussian là loại phổ nhiễu phổ biến nhất trong hệ thống đo lường. Loại nhiễu này có mật độ phổ công suất đều trên miền tần số và biên độ tuân theo phân bố Gaussian. Theo phương thức tác động thì nhiễu Gaussian là nhiễu cộng. Vậy hệ thống đo lường phổ biến chịu tác động của nhiễu Gaussian trắng cộng (AWGN).\n",
    "\n"
   ]
  },
  {
   "cell_type": "markdown",
   "metadata": {},
   "source": [
    "# 7. Ước lượng của trung bình và phương sai\n",
    "Ta chọn ngẫu nhiên n cá thể trong một quần thể có N cá thể. Ta quan tâm đến đặc trưng định lượng $Y$ của quần thể với giá trị trung bình $\\bar{Y}$ và phương sai $V(Y)$. Trong mấu đó, Y có trung bình và phương sai lần lượt là $\\bar{y}$ và $\\sigma^2 = \\frac{1}{n}\\sum_{i=1}^n(y_i - \\bar{y})^2$. Các giá trị $\\bar{y}$ và $\\sigma^2$ thay đổi theo mẫu thử, do đó chúng là các biến ngẫu nhiên với trung bình và phương sai riêng khác nhau.\n",
    "## Ước lượng trung bình của Y\n",
    "Thông thường, trung bình của $Y$, tức là $\\bar{Y}$ được ước lượng bởi : $\\bar{y} = \\frac{1}{n}\\sum_{i=1}^n(y_i)$, còn được gọi là trung bình tích lũy (hay trung bình cộng). Ta chứng minh được đây là ước lượng không chệch (unbiased), nghĩa là $E(\\bar{y}) = Y$\n",
    "## Ước lượng phương sai của Y:\n",
    "$\\sigma^2$ là một ước lượng của $V(Y)$, nhưng là ước lượng không đúng, ta chứng minh được kì vọng của $\\sigma^2$ luôn nhỏ hơn $V(Y)$, tức là ước lượng nhiễu. \n",
    "\n",
    "Các ước lượng đúng của $V(Y)$ là :\n",
    "\n",
    "$\\frac{n}{n-1}\\sigma^2$  trong trường hợp lấy mẫu có hoàn lại.\n",
    "\n",
    "$\\frac{N}{N-1}\\frac{n}{n-1} \\sigma^2$ trong trường hợp lấy mẫu không hoàn lại.\n",
    "\n",
    "Trong trường hợp mẫu lớn, phép tính có hoàn lại và phép tính không hoàn lại là như nhau, vì $\\frac{N}{N-1}$ xấp xỉ bằng 1. Vì vậy trong trường hợp tổng quát ước lượng đúng của $V(Y)$ là : $s^2 = \\frac{n}{n-1}\\sum_{i=1}^n(y_i - \\bar{y})^2$ được gọi là phương sai tích lũy của $Y$.\n",
    "\n"
   ]
  },
  {
   "cell_type": "markdown",
   "metadata": {},
   "source": [
    "# 8. Phương pháp bình phương tối thiểu\n",
    "Trong toán học, Phương pháp bình phương tối thiểu, còn gọi là bình phương nhỏ nhất hay bình phương trung bình tối thiểu, là một phương pháp tối ưu hóa để lựa chọn một đường khớp nhất cho một dải dữ liệu ứng vơi cực trị của tổn các sai số thống kê (error) giữa đường khớp và dữ liệu (sai số nhỏ nhất giữa giá trị ước lượng với giá trị thực).\n",
    "\n",
    "Phương pháp này giả định error cua phép đo đạc dẽ liệu phân phối ngẫu nhiên. Định lý Gauss-Markov chứng minh rằng kết quả thu được từ phương pháp bình phương tối thiểu không thiên vị và sai số của việc đo đạc dữ liệu không nhất thiết phải tuân theo , ví dụ, phân bố Gauss. Một phuowg pháp mở rộng từ phương pháp này là bình phương tối thiểu có trọng số.\n",
    "\n",
    "Phương pháp BPTT thường được dùng trong khớp đường cong. Nhiều bài toán tối ưu hóa cũng được quy về việc tìm cự trị của dạng bình phương, ví dụ như tìm cực tiểu của năng lượng hay cực đại của entropy.\n",
    "\n",
    "Giả sử dữ liệu gồm các điểm $(x_i, y_i)$ với $i = 1,...,n$. Chúng ta cần tìm một hàm số $f$ thỏa mãn:\n",
    "$$ f(x_i) \\approx y_i$$\n",
    "Giả sử hàm $f$ có thể thay đổi hình dạng, phụ thuộc vào một số tham số, $p_j$ với $j=1,...,m$\n",
    "$$ f(x) \\approx f(p_j, x)$$\n",
    "Nội dung của phương pháp là tìm giá trị của các tham số $p_j$ sao cho biểu thức sau đạt cực tiểu:\n",
    "$$ X^2 = \\frac{1}{n} \\sum_{i=1}^n(y_i - f(x_i))^2$$\n",
    "Điều này dẫn đến tên gọi bình phương tối thiểu. \n",
    "\n",
    "Trong hồi quy tuyến tính, người ta thay biểu thức \n",
    "$$ f(x_i) \\approx y_i$$\n",
    "bằng \n",
    "$$ f(x_i) = y_i + \\xi_i$$\n",
    "với hệ số nhiễu $\\xi$ là biến ngẫu nhiên có giá trị kỳ vọng bằng 0.\n"
   ]
  }
 ],
 "metadata": {
  "kernelspec": {
   "display_name": "Python 3",
   "language": "python",
   "name": "python3"
  },
  "language_info": {
   "codemirror_mode": {
    "name": "ipython",
    "version": 3
   },
   "file_extension": ".py",
   "mimetype": "text/x-python",
   "name": "python",
   "nbconvert_exporter": "python",
   "pygments_lexer": "ipython3",
   "version": "3.6.4"
  }
 },
 "nbformat": 4,
 "nbformat_minor": 2
}
