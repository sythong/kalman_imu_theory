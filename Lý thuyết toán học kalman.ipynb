{
 "cells": [
  {
   "cell_type": "markdown",
   "metadata": {},
   "source": [
    "# Giới thiệu chung \n",
    "Bộ lọc Kalman ra đời năm 1960 bởi giáo sư Kalman để thu thập và kết hợp linh động các thông tin từ cảm biến thành phần. Một khi phương trình định hướng và mẫu thống kê ngẫu nhiên trên mỗi cảm biến được biết và xác định, bộ lọc Kalmnan sẽ cho ước lượng giá trị tối ưu (Chính là do đã được loại sai số, nhiễu) như là đang sử dụng một tín hiệu \"tinh khiêt\" và có độ phân bổ không đổi. \n",
    "\n",
    "Bộ lọc Kalman đơn giản là thuật toán xử lý hồi quy tối ưu. Có nhiều cách xác định tối ưu, phụ thuộc tiêu chẩn lựa chọn thông số đánh giá. Nó cho thấy rằng, Kalman tối ưu đối với chi tiết cụ thể trong bất kỳ tiêu chuẩn có nghĩa nào. Một khía cạnh của sự tootis ưu là này là một bọ lọc Kalman hợp nhất tất cả thông tin được cung cấp tới nó. Nó xử lý tất cả giá trị sẵn có, ngoại trừ độ sai số, ước lượng giá trị hiện tại của những giá trị quan tâm, sử dụng mô hình động học, mô tả số liệu thống kê của hệ thống nhiễu, gồm nhiễu ồn, nhiễu đo và sự không chắc chắn trong mô hình động học, và những thông tin bất kỳ về điều kiện ban đầu của giá trị quan tâm.\n",
    "\n",
    "Bài toán áp dụng kalman, sẽ dựa trên giá trị đo được (đòi hỏi tuyến tính), xây dựng mô hình và áp dụng phương trình để đưa ra kết quả.\n"
   ]
  },
  {
   "cell_type": "markdown",
   "metadata": {},
   "source": [
    "# Mô hình toán học\n",
    "## 1. Hệ thống và mô hình quan sát.\n",
    "Giả sử mô hình trạng thái :\n",
    "$$ x_{k+1} = \\mathbf{F}_k x_k + \\mathbf{G_ku}_k + w_k$$\n",
    "Trong đó, $x_k$ là trạng thái thười điểm $k$, $\\mathbf{u}_k$ là vector điều khiển đầu vào, $w_k$ là nhiễu hệ thống hay nhiễu quá trình. Thường là nhiễu trắng cộng (AWGN), $\\mathbf{G}_k$ là ma trân chuyển đổi đầu vào và $\\mathbf{F}_k là ma trận chuyển trạng thái.\n",
    "\n",
    "Ngoài ra chúng ta giả sử rằng, khả năng quan sát trạng thái được thực hiện thông qua một hệ thống đo lường có thể được biểu diễn bởi một phương tình tuyến tính như sau:\n",
    "$$ z_k = \\mathbf{H}_kx_k + v_k$$\n",
    "trong đó, $z_k$ là thông tin quan sát hay đo lường thực hiện tại thời điểm $k$, $x_k$ là trạng thái tại thời điểm k, $\\mathbf{H}_k$ là ma trận quan sát và $v_k$ là nhiễu cộng trong qua trình đo lường.\n",
    "\n",
    "![Image](https://html2-f.scribdassets.com/8soq6a7yrk20g56r/images/15-a03796116d.png)\n",
    "Hình : Mô hình không gian trạng thái."
   ]
  }
 ],
 "metadata": {
  "kernelspec": {
   "display_name": "Python 3",
   "language": "python",
   "name": "python3"
  },
  "language_info": {
   "codemirror_mode": {
    "name": "ipython",
    "version": 3
   },
   "file_extension": ".py",
   "mimetype": "text/x-python",
   "name": "python",
   "nbconvert_exporter": "python",
   "pygments_lexer": "ipython3",
   "version": "3.6.4"
  }
 },
 "nbformat": 4,
 "nbformat_minor": 2
}
